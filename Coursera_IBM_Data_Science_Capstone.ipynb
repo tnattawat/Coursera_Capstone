{
  "nbformat": 4,
  "nbformat_minor": 0,
  "metadata": {
    "colab": {
      "name": "Coursera IBM Data Science Capstone",
      "provenance": [],
      "authorship_tag": "ABX9TyPbGd/LfZSjLovibPlzoOir",
      "include_colab_link": true
    },
    "kernelspec": {
      "name": "python3",
      "display_name": "Python 3"
    }
  },
  "cells": [
    {
      "cell_type": "markdown",
      "metadata": {
        "id": "view-in-github",
        "colab_type": "text"
      },
      "source": [
        "<a href=\"https://colab.research.google.com/github/tnattawat/Coursera_Capstone/blob/main/Coursera_IBM_Data_Science_Capstone.ipynb\" target=\"_parent\"><img src=\"https://colab.research.google.com/assets/colab-badge.svg\" alt=\"Open In Colab\"/></a>"
      ]
    },
    {
      "cell_type": "markdown",
      "metadata": {
        "id": "llfKNmnwlhbY"
      },
      "source": [
        "Note: This notebook will be mainly used for IBM Data Science Professional's capstone project."
      ]
    },
    {
      "cell_type": "markdown",
      "metadata": {
        "id": "sS6CqkuImfgG"
      },
      "source": [
        "## import library"
      ]
    },
    {
      "cell_type": "code",
      "metadata": {
        "colab": {
          "base_uri": "https://localhost:8080/"
        },
        "id": "DwHcyOFTls6w",
        "outputId": "aac83db2-0903-45d8-a373-c470e443baa1"
      },
      "source": [
        "import pandas as pd\r\n",
        "import numpy as np\r\n",
        "\r\n",
        "print('Hello Capstone Project Course!')"
      ],
      "execution_count": 4,
      "outputs": [
        {
          "output_type": "stream",
          "text": [
            "Hello Capstone Project Course!\n"
          ],
          "name": "stdout"
        }
      ]
    },
    {
      "cell_type": "code",
      "metadata": {
        "id": "JzCO3etemlIZ"
      },
      "source": [
        ""
      ],
      "execution_count": null,
      "outputs": []
    }
  ]
}