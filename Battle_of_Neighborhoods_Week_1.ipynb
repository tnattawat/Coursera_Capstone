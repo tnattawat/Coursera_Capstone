{
  "nbformat": 4,
  "nbformat_minor": 0,
  "metadata": {
    "colab": {
      "name": "Battle of Neighborhoods Week 1.ipynb",
      "provenance": [],
      "authorship_tag": "ABX9TyPxSm5Jam/Aru4fLvt1JHyX",
      "include_colab_link": true
    },
    "kernelspec": {
      "name": "python3",
      "display_name": "Python 3"
    }
  },
  "cells": [
    {
      "cell_type": "markdown",
      "metadata": {
        "id": "view-in-github",
        "colab_type": "text"
      },
      "source": [
        "<a href=\"https://colab.research.google.com/github/tnattawat/Coursera_Capstone/blob/main/Battle_of_Neighborhoods_Week_1.ipynb\" target=\"_parent\"><img src=\"https://colab.research.google.com/assets/colab-badge.svg\" alt=\"Open In Colab\"/></a>"
      ]
    },
    {
      "cell_type": "markdown",
      "metadata": {
        "id": "2ZKQmRmvwyfI"
      },
      "source": [
        "<b><h1 align=center><font size=6>Battle of Neighborhoods</font></h></b>\r\n",
        "<h1 align=center><font size=5>Mr. Nattawat's Best Store Location in Singapore</font></h>"
      ]
    },
    {
      "cell_type": "markdown",
      "metadata": {
        "id": "F6_eWw4zwl_U"
      },
      "source": [
        "## Introduction"
      ]
    },
    {
      "cell_type": "markdown",
      "metadata": {
        "id": "kTTOcecvwn5b"
      },
      "source": [
        "### Problem and background\r\n",
        "Mr. Nattawat is a charming food entrepreneur from Thailand. His specialty is healthy meals for busy office workers. He is planning to open a food store in Singapore and looking for a location with high traffic of officer workers and tourists. \r\n",
        "\r\n",
        "Having limited knowledge of the different neighborhoods in Singapore, he decided to hire Mr. Topp, a thriving data scientist, to conduct a location analysis. Mr. Topp is tasked with an assignment to recommend the best location."
      ]
    },
    {
      "cell_type": "markdown",
      "metadata": {
        "id": "iM0IIfASwplt"
      },
      "source": [
        "### Data and how it will be used to solve the problem\r\n",
        "In this notebook, data scientist Mr. Topp will explore, segment, and cluster the different neighborhoods in the city of Singapore. He will obtain relevant location values from a json file and use the Foursquare API to explore neighborhoods in city and analyze the most common venue categories in each neighborhood. Then, he will use this feature to group the neighborhoods into clusters with an algorithm called K-means clustering. Then, he will use Folium library to visualize the neighborhoods in Singapore and their emerging clusters. Finally, he will use the insight to make a data-driven recommendation as to where would be the best location for Mr. Nattawat's restaurant in Singapore."
      ]
    },
    {
      "cell_type": "markdown",
      "metadata": {
        "id": "6gzSpwslwr3M"
      },
      "source": [
        "### Table of Contents\r\n",
        "\r\n",
        "<div class=\"alert alert-block alert-info\" style=\"margin-top: 20px\">\r\n",
        "\r\n",
        "<font size = 3>\r\n",
        "\r\n",
        "1.  <a href=\"\">Download and Explore Dataset</a>\r\n",
        "\r\n",
        "2.  <a href=\"#item2\">Explore Neighborhoods in Singapore</a>\r\n",
        "\r\n",
        "3.  <a href=\"#item3\">Analyze Each Neighborhood</a>\r\n",
        "\r\n",
        "4.  <a href=\"#item4\">Cluster Neighborhoods</a>\r\n",
        "\r\n",
        "5.  <a href=\"#item5\">Recommendation</a>  \r\n",
        "    </font>\r\n",
        "    </div>"
      ]
    },
    {
      "cell_type": "code",
      "metadata": {
        "id": "4CrvZRWPwwKb"
      },
      "source": [
        ""
      ],
      "execution_count": null,
      "outputs": []
    }
  ]
}