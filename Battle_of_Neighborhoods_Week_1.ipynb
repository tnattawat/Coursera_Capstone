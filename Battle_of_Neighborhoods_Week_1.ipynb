{
  "nbformat": 4,
  "nbformat_minor": 0,
  "metadata": {
    "colab": {
      "name": "Battle of Neighborhoods Week 1.ipynb",
      "provenance": [],
      "authorship_tag": "ABX9TyOubSIDvaIXzFJLd3RPgWVm",
      "include_colab_link": true
    },
    "kernelspec": {
      "name": "python3",
      "display_name": "Python 3"
    }
  },
  "cells": [
    {
      "cell_type": "markdown",
      "metadata": {
        "id": "view-in-github",
        "colab_type": "text"
      },
      "source": [
        "<a href=\"https://colab.research.google.com/github/tnattawat/Coursera_Capstone/blob/main/Battle_of_Neighborhoods_Week_1.ipynb\" target=\"_parent\"><img src=\"https://colab.research.google.com/assets/colab-badge.svg\" alt=\"Open In Colab\"/></a>"
      ]
    },
    {
      "cell_type": "markdown",
      "metadata": {
        "id": "V7zmmG5AB3H9"
      },
      "source": [
        "<b><h1 align=center><font size=6>IBM Data Science Capstone : Battle of Neighborhoods</font></h></b>\r\n",
        "<h1 align=center><font size=5>The Best Location for New Restaurant in Singapore</font></h>"
      ]
    },
    {
      "cell_type": "markdown",
      "metadata": {
        "id": "llrbXdLGB5Dc"
      },
      "source": [
        "### Table of Contents\r\n",
        "\r\n",
        "<div class=\"alert alert-block alert-info\" style=\"margin-top: 20px\">\r\n",
        "\r\n",
        "<font size = 3>\r\n",
        "\r\n",
        "1. <a href=\"#scrollTo=Nzw4qxI5eJxt&line=1&uniqifier=1\">Business Problem</a>\r\n",
        "\r\n",
        "2.  <a href=\"#scrollTo=2bzdq2sNYvHV&line=1&uniqifier=1\">Data</a>\r\n",
        "\r\n",
        "3.  <a href=\"#item2\">Methodology</a>\r\n",
        "\r\n",
        "3.  <a href=\"#item3\">Analysis</a>\r\n",
        "\r\n",
        "4.  <a href=\"#item4\">Result and Discussion</a>\r\n",
        "\r\n",
        "5.  <a href=\"#item5\">Recommendation</a>  \r\n",
        "    </font>\r\n",
        "    </div>"
      ]
    },
    {
      "cell_type": "markdown",
      "metadata": {
        "id": "duTroiZ1B_3E"
      },
      "source": [
        "## 1. Business Problem"
      ]
    },
    {
      "cell_type": "markdown",
      "metadata": {
        "id": "1QSKseHpB92t"
      },
      "source": [
        "Lord Michelin is an ambitious food entrepreneur. He is planning to open his first restaurant in Singapore. He is looking for a location with high traffic and relatively low competition. The irony is locations with high taffic are often filled with existing restaurants and accompanied by cutthroat competition. Location with high traffic and low competition is a gem. But finding it is a real challenge.\r\n",
        "\r\n",
        "Lord Michelin decided to hire Mr. Topp, a charming data scientist, to conduct a location analysis and recommend him the best location. Mr. Topp is tasked to use his data science prowess to generate the most promissing neighborhood option(s) that can satisfy Lord Michelin's criteria, along with a clear explanation of their advantages and disadvantages.\r\n",
        "\r\n",
        "Below is Mr. Topp's notebook detailing the process he carried out to find the best food store location for Lord Michelin."
      ]
    },
    {
      "cell_type": "markdown",
      "metadata": {
        "id": "4TO7mHbbCBDV"
      },
      "source": [
        "## 2. Data"
      ]
    },
    {
      "cell_type": "markdown",
      "metadata": {
        "id": "vhbrvPP0CCqo"
      },
      "source": [
        "### Data source and how it will be used to solve the problem"
      ]
    },
    {
      "cell_type": "markdown",
      "metadata": {
        "id": "A6ah-GqFCFe2"
      },
      "source": [
        "Based on definition of our problem, factors that will influence our decision are:\r\n",
        "* number of venues in the neighborhood, which is a proxy for the volume of customer traffic.\r\n",
        "* number of existing restaurants in the neighborhood, which reflects the level of competition."
      ]
    },
    {
      "cell_type": "markdown",
      "metadata": {
        "id": "MK8i8hzeCGsW"
      },
      "source": [
        "Following data sources will be needed to extract and/or generate the required information:\r\n",
        "* list of candidate neighborhoods will be scraped from **Wikipedia**\r\n",
        "* coordinates of each neighborhood will be generated using **arcGIS API**\r\n",
        "* information on the venues in each neighborhood will be obtained using **Foursquare API**\r\n",
        "* number of restaurants in each neighborhood will be obtained using **Foursquare API**"
      ]
    },
    {
      "cell_type": "markdown",
      "metadata": {
        "id": "d1GS9Qz3CINP"
      },
      "source": [
        "Using these datasets, our charming data scientist Mr. Topp will explore, segment, and cluster the different neighborhoods in Singapore. He will scrape a list of candidate neighborhoods from Wikiepdia, extract their coordinates from arcGIS, and use Foursquare API to explore the different neighborhoods in the city of Singapore. Specifically, he will analyze the volume of customer traffic and the number of existing restaurants. Then, he will use this analysis to group the neighborhoods into clusters with K-means clustering algorithm. Also, he will use Folium library to visualize the neighborhoods and their clusters. Finally, he will make a data-driven recommendation as to where would be the best store location for Mr. Nattawat in Singapore."
      ]
    }
  ]
}
